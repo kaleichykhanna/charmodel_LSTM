{
 "cells": [
  {
   "cell_type": "markdown",
   "metadata": {
    "id": "vOzMlmIybiK4"
   },
   "source": [
    "This code is one of the tasks during the ML-training \n",
    "### Генерация поэзии с помощью нейронных сетей: шаг 1\n",
    "##### Автор: [Радослав Нейчев](https://www.linkedin.com/in/radoslav-neychev/), @neychev\n",
    "The code on building and training the model was created by [Hanna Kaleichyk](https://www.linkedin.com/in/hanna-kaleichyk-108aba245)\n",
    "\n",
    "Ваша основная задача: научиться генерироват стихи с помощью простой рекуррентной нейронной сети (Vanilla RNN). В качестве корпуса текстов для обучения будет выступать роман в стихах \"Евгений Онегин\" Александра Сергеевича Пушкина."
   ]
  },
  {
   "cell_type": "code",
   "execution_count": 1,
   "metadata": {
    "executionInfo": {
     "elapsed": 4616,
     "status": "ok",
     "timestamp": 1731410769860,
     "user": {
      "displayName": "Аня",
      "userId": "06242451492203923297"
     },
     "user_tz": -180
    },
    "id": "BcNXfHZdbiK7"
   },
   "outputs": [],
   "source": [
    "# do not change the code in the block below\n",
    "# __________start of block__________\n",
    "import string\n",
    "import os\n",
    "from random import sample\n",
    "\n",
    "import numpy as np\n",
    "import torch, torch.nn as nn\n",
    "import torch.nn.functional as F\n",
    "\n",
    "from IPython.display import clear_output\n",
    "\n",
    "import matplotlib.pyplot as plt\n",
    "# __________end of block__________"
   ]
  },
  {
   "cell_type": "code",
   "execution_count": 2,
   "metadata": {
    "colab": {
     "base_uri": "https://localhost:8080/"
    },
    "executionInfo": {
     "elapsed": 32,
     "status": "ok",
     "timestamp": 1731410769861,
     "user": {
      "displayName": "Аня",
      "userId": "06242451492203923297"
     },
     "user_tz": -180
    },
    "id": "7yZeNairbiK9",
    "outputId": "701d78ce-fbe8-4b8a-f751-8c5d33abc09a"
   },
   "outputs": [
    {
     "name": "stdout",
     "output_type": "stream",
     "text": [
      "cuda device is available\n"
     ]
    }
   ],
   "source": [
    "# do not change the code in the block below\n",
    "# __________start of block__________\n",
    "#device = torch.device('cuda') if torch.cuda.is_available() else torch.device('cpu')\n",
    "device = torch.device('cuda')\n",
    "print('{} device is available'.format(device))\n",
    "# __________end of block__________"
   ]
  },
  {
   "cell_type": "markdown",
   "metadata": {
    "id": "MPenWOy01Ooa",
    "outputId": "a92e8e33-e009-4bd4-ac12-3b1b5e1cd3f2"
   },
   "source": [
    "#### 1. Загрузка данных."
   ]
  },
  {
   "cell_type": "code",
   "execution_count": 3,
   "metadata": {
    "executionInfo": {
     "elapsed": 29,
     "status": "ok",
     "timestamp": 1731410769861,
     "user": {
      "displayName": "Аня",
      "userId": "06242451492203923297"
     },
     "user_tz": -180
    },
    "id": "WkeTwyLcbiK-"
   },
   "outputs": [],
   "source": [
    "# do not change the code in the block below\n",
    "# __________start of block__________\n",
    "\n",
    "with open('onegin.txt', 'r') as iofile:\n",
    "    text = iofile.readlines()\n",
    "\n",
    "text = \"\".join([x.replace('\\t\\t', '').lower() for x in text])\n",
    "# __________end of block__________"
   ]
  },
  {
   "cell_type": "markdown",
   "metadata": {
    "id": "XQYpmGfR_gJ8"
   },
   "source": [
    "#### 2. Построение словаря и предобработка текста\n",
    "В данном задании требуется построить языковую модель на уровне символов. Приведем весь текст к нижнему регистру и построим словарь из всех символов в доступном корпусе текстов. Также добавим токен `<sos>`."
   ]
  },
  {
   "cell_type": "code",
   "execution_count": 4,
   "metadata": {
    "colab": {
     "base_uri": "https://localhost:8080/"
    },
    "executionInfo": {
     "elapsed": 28,
     "status": "ok",
     "timestamp": 1731410769861,
     "user": {
      "displayName": "Аня",
      "userId": "06242451492203923297"
     },
     "user_tz": -180
    },
    "id": "OGRQ-JPSbiK_",
    "outputId": "20fa9cd9-0219-4ff1-ea09-7b9a67d6213e"
   },
   "outputs": [
    {
     "name": "stdout",
     "output_type": "stream",
     "text": [
      "Seems fine!\n"
     ]
    }
   ],
   "source": [
    "# do not change the code in the block below\n",
    "# __________start of block__________\n",
    "tokens = sorted(set(text.lower())) + ['<sos>']\n",
    "num_tokens = len(tokens)\n",
    "\n",
    "assert num_tokens == 84, \"Check the tokenization process\"\n",
    "\n",
    "token_to_idx = {x: idx for idx, x in enumerate(tokens)}\n",
    "idx_to_token = {idx: x for idx, x in enumerate(tokens)}\n",
    "\n",
    "assert len(tokens) == len(token_to_idx), \"Mapping should be unique\"\n",
    "\n",
    "print(\"Seems fine!\")\n",
    "\n",
    "\n",
    "text_encoded = [token_to_idx[x] for x in text]\n",
    "# __________end of block__________"
   ]
  },
  {
   "cell_type": "markdown",
   "metadata": {
    "id": "AEfo88p6biLA"
   },
   "source": [
    "__Ваша задача__: обучить классическую рекуррентную нейронную сеть (Vanilla RNN) предсказывать следующий символ на полученном корпусе текстов и сгенерировать последовательность длины 100 для фиксированной начальной фразы.\n",
    "\n",
    "Вы можете воспользоваться кодом с занятие №6 или же обратиться к следующим ссылкам:\n",
    "* Замечательная статья за авторством Andrej Karpathy об использовании RNN: [link](http://karpathy.github.io/2015/05/21/rnn-effectiveness/)\n",
    "* Пример char-rnn от Andrej Karpathy: [github repo](https://github.com/karpathy/char-rnn)\n",
    "* Замечательный пример генерации поэзии Шекспира: [github repo](https://github.com/spro/practical-pytorch/blob/master/char-rnn-generation/char-rnn-generation.ipynb)\n",
    "\n",
    "Данное задание является достаточно творческим. Не страшно, если поначалу оно вызывает затруднения. Последняя ссылка в списке выше может быть особенно полезна в данном случае.\n",
    "\n",
    "Далее для вашего удобства реализована функция, которая генерирует случайный батч размера `batch_size` из строк длиной `seq_length`. Вы можете использовать его при обучении модели."
   ]
  },
  {
   "cell_type": "code",
   "execution_count": 5,
   "metadata": {
    "executionInfo": {
     "elapsed": 24,
     "status": "ok",
     "timestamp": 1731410769861,
     "user": {
      "displayName": "Аня",
      "userId": "06242451492203923297"
     },
     "user_tz": -180
    },
    "id": "36vt0CE5biLB"
   },
   "outputs": [],
   "source": [
    "# do not change the code in the block below\n",
    "# __________start of block__________\n",
    "batch_size = 256\n",
    "seq_length = 100\n",
    "start_column = np.zeros((batch_size, 1), dtype=int) + token_to_idx['<sos>']\n",
    "\n",
    "def generate_chunk():\n",
    "    global text_encoded, start_column, batch_size, seq_length\n",
    "\n",
    "    start_index = np.random.randint(0, len(text_encoded) - batch_size*seq_length - 1)\n",
    "    data = np.array(text_encoded[start_index:start_index + batch_size*seq_length]).reshape((batch_size, -1))\n",
    "    yield np.hstack((start_column, data))\n",
    "# __________end of block__________"
   ]
  },
  {
   "cell_type": "markdown",
   "metadata": {
    "id": "Mz4WaQKXbiLC"
   },
   "source": [
    "Пример батча:"
   ]
  },
  {
   "cell_type": "code",
   "execution_count": 6,
   "metadata": {
    "colab": {
     "base_uri": "https://localhost:8080/"
    },
    "executionInfo": {
     "elapsed": 24,
     "status": "ok",
     "timestamp": 1731410769861,
     "user": {
      "displayName": "Аня",
      "userId": "06242451492203923297"
     },
     "user_tz": -180
    },
    "id": "I5jWUESYpE5Y",
    "outputId": "5d1ee597-2222-4a47-9d44-125befe2ad65"
   },
   "outputs": [
    {
     "data": {
      "text/plain": [
       "array([[83, 47, 64, ..., 61, 64, 48],\n",
       "       [83, 53,  5, ...,  1, 46, 64],\n",
       "       [83, 49, 63, ..., 45,  1, 49],\n",
       "       ...,\n",
       "       [83, 54,  5, ..., 63,  1, 50],\n",
       "       [83, 54,  1, ..., 49, 50, 47],\n",
       "       [83, 72,  1, ..., 59, 56, 59]])"
      ]
     },
     "execution_count": 6,
     "metadata": {},
     "output_type": "execute_result"
    }
   ],
   "source": [
    "next(generate_chunk())"
   ]
  },
  {
   "cell_type": "markdown",
   "metadata": {
    "id": "pHzekpQ3biLC"
   },
   "source": [
    "Далее вам предстоит написать код для обучения модели и генерации текста."
   ]
  },
  {
   "cell_type": "code",
   "execution_count": 7,
   "metadata": {
    "executionInfo": {
     "elapsed": 542,
     "status": "ok",
     "timestamp": 1731410827967,
     "user": {
      "displayName": "Аня",
      "userId": "06242451492203923297"
     },
     "user_tz": -180
    },
    "id": "6M_kBtozbiLC"
   },
   "outputs": [],
   "source": [
    "class charRNN(nn.Module):\n",
    "    def __init__(self, input_size, hidden_size, output_size, n_layers=1):\n",
    "        super(charRNN, self).__init__()\n",
    "        self.input_size = input_size\n",
    "        self.hidden_size = hidden_size\n",
    "        self.output_size = output_size\n",
    "        self.n_layers = n_layers\n",
    "\n",
    "        self.embedding = nn.Embedding(input_size, hidden_size)\n",
    "        self.lstm = nn.LSTM(hidden_size, hidden_size, n_layers, batch_first=True)\n",
    "        self.fc = nn.Linear(hidden_size, output_size)\n",
    "\n",
    "    def forward(self, input, hidden):\n",
    "        # Embed the input\n",
    "        x_emb = self.embedding(input)\n",
    "        x_emb = x_emb.to(device)\n",
    "        # Pass through the LSTM\n",
    "        output, hidden = self.lstm(x_emb, hidden)\n",
    "        # Pass through the fully connected layer\n",
    "        output = self.fc(output)\n",
    "        return output, hidden\n",
    "\n",
    "    def init_hidden(self, batch_size):\n",
    "        # Initialize the hidden state for LSTM (n_layers, batch_size, hidden_size)\n",
    "        h_0 = torch.zeros(self.n_layers, batch_size, self.hidden_size).to(device)  # Hidden state\n",
    "        c_0 = torch.zeros(self.n_layers, batch_size, self.hidden_size).to(device) # Cell state\n",
    "        return (h_0, c_0)"
   ]
  },
  {
   "cell_type": "code",
   "execution_count": 8,
   "metadata": {
    "executionInfo": {
     "elapsed": 732,
     "status": "ok",
     "timestamp": 1731410829994,
     "user": {
      "displayName": "Аня",
      "userId": "06242451492203923297"
     },
     "user_tz": -180
    },
    "id": "boHL4ii8oQQV"
   },
   "outputs": [],
   "source": [
    "def rnn_loop(model, batch_ix):\n",
    "    \"\"\"\n",
    "    Computes log P(next_character) for all time-steps in names_ix\n",
    "    :param names_ix: an int32 matrix of shape [batch, time], output of to_matrix(names)\n",
    "    \"\"\"\n",
    "    batch_size = batch_ix.shape[0]\n",
    "    hid_state = model.init_hidden(batch_size)  # Initialize hidden state\n",
    "\n",
    "    # Pass the entire sequence to the model (batch_first=True already handles batching)\n",
    "    output, hid_state = model(batch_ix, hid_state)  # Process the entire batch at once\n",
    "\n",
    "    return output"
   ]
  },
  {
   "cell_type": "code",
   "execution_count": 11,
   "metadata": {
    "executionInfo": {
     "elapsed": 463,
     "status": "ok",
     "timestamp": 1731411299483,
     "user": {
      "displayName": "Аня",
      "userId": "06242451492203923297"
     },
     "user_tz": -180
    },
    "id": "74TP8R2U3DQe"
   },
   "outputs": [],
   "source": [
    "from IPython.display import clear_output\n",
    "from random import sample\n",
    "import time\n",
    "\n",
    "n_epochs = 10000\n",
    "print_every = 100\n",
    "hidden_size = 256\n",
    "n_layers = 1\n",
    "lr = 0.005\n",
    "\n",
    "loss_func = nn.CrossEntropyLoss()\n",
    "char_rnn = charRNN(batch_size, hidden_size, len(token_to_idx), n_layers).to(device)\n",
    "opt = torch.optim.Adam(char_rnn.parameters(), lr=lr)\n",
    "history = []"
   ]
  },
  {
   "cell_type": "code",
   "execution_count": 12,
   "metadata": {
    "colab": {
     "base_uri": "https://localhost:8080/",
     "height": 430
    },
    "executionInfo": {
     "elapsed": 31786,
     "status": "ok",
     "timestamp": 1731411332282,
     "user": {
      "displayName": "Аня",
      "userId": "06242451492203923297"
     },
     "user_tz": -180
    },
    "id": "xDIhNatmbiLD",
    "outputId": "1092ba28-2040-4fe7-ef1f-11c7a3025849"
   },
   "outputs": [
    {
     "data": {
      "image/png": "[encoded data removed]",
      "text/plain": [
       "<Figure size 640x480 with 1 Axes>"
      ]
     },
     "metadata": {},
     "output_type": "display_data"
    },
    {
     "name": "stdout",
     "output_type": "stream",
     "text": [
      "Training on cuda took 4446.83 seconds.\n"
     ]
    }
   ],
   "source": [
    "start_time=time.time()\n",
    "for i in range(n_epochs):\n",
    "    opt.zero_grad()\n",
    "    batch_ix = next(generate_chunk())  # Shape: [batch_size, seq_length]\n",
    "    batch_ix = torch.tensor(batch_ix, dtype=torch.int64).to(device)\n",
    "\n",
    "    all_logits = rnn_loop(char_rnn, batch_ix)\n",
    "    # compute loss\n",
    "    actual_next_tokens = batch_ix[:, 1:]\n",
    "\n",
    "    pred_logits = all_logits[:, :-1, :]\n",
    "    pred_logits_flattened = pred_logits.reshape(-1, pred_logits.shape[-1])\n",
    "    actual_next_tokens_flattened = actual_next_tokens.reshape(-1)\n",
    "    loss = loss_func(pred_logits_flattened, actual_next_tokens_flattened)\n",
    "    # train with backprop\n",
    "    loss.backward()\n",
    "    opt.step()\n",
    "\n",
    "    history.append(loss.item())\n",
    "    if (i + 1) % print_every == 0:\n",
    "        clear_output(True)\n",
    "        plt.plot(history, label=\"loss\")\n",
    "        plt.legend()\n",
    "        plt.show()\n",
    "end_time = time.time()\n",
    "total_time = end_time - start_time \n",
    "print(f\"Training on {device} took {total_time:.2f} seconds.\")\n",
    "assert np.mean(history[:10]) > np.mean(history[-10:]), \"RNN didn't converge.\""
   ]
  },
  {
   "cell_type": "markdown",
   "metadata": {
    "id": "iSb1VFURbiLE"
   },
   "source": [
    "В качестве иллюстрации ниже доступен график значений функции потерь, построенный в ходе обучения авторской сети (сам код для ее обучения вам и предстоит написать)."
   ]
  },
  {
   "cell_type": "code",
   "execution_count": null,
   "metadata": {
    "id": "ehI-8khFbiLE",
    "outputId": "c2e9bf5d-0d74-4822-911c-83f12221a111"
   },
   "outputs": [
    {
     "data": {
      "image/png": "[encoded data removed]",
      "text/plain": [
       "<Figure size 432x288 with 1 Axes>"
      ]
     },
     "metadata": {
      "needs_background": "light"
     },
     "output_type": "display_data"
    }
   ],
   "source": []
  },
  {
   "cell_type": "markdown",
   "metadata": {
    "id": "dXPf_XyLbiLE"
   },
   "source": [
    "Шаблон функции `generate_sample` также доступен ниже. Вы можете как дозаполнить его, так и написать свою собственную функцию с нуля. Не забывайте, что все примеры в обучающей выборке начинались с токена `<sos>`."
   ]
  },
  {
   "cell_type": "code",
   "execution_count": null,
   "metadata": {},
   "outputs": [],
   "source": []
  },
  {
   "cell_type": "code",
   "execution_count": 13,
   "metadata": {
    "executionInfo": {
     "elapsed": 933,
     "status": "ok",
     "timestamp": 1731411532329,
     "user": {
      "displayName": "Аня",
      "userId": "06242451492203923297"
     },
     "user_tz": -180
    },
    "id": "pEe--JqebiLE"
   },
   "outputs": [],
   "source": [
    "import torch\n",
    "import numpy as np\n",
    "\n",
    "def generate_sample(char_rnn, seed_phrase=None, max_length=200, temperature=1.0, device=device):\n",
    "    \"\"\"\n",
    "    Generate text using the trained charRNN model given a seed phrase.\n",
    "    :param seed_phrase: Prefix characters for the RNN to continue from.\n",
    "    :param max_length: Maximum length of the generated text (including seed_phrase).\n",
    "    :param temperature: Controls the randomness of predictions. Higher values (e.g., 1.0) give more random predictions.\n",
    "                        Lower values (e.g., 0.5) make predictions more deterministic.\n",
    "    :param device: Device to run the model on ('cuda' or 'cpu').\n",
    "    :return: Generated text.\n",
    "    \"\"\"\n",
    "    # Convert the seed_phrase to a sequence of indices\n",
    "    if seed_phrase is None:\n",
    "        seed_phrase = '<sos>' \n",
    "    \n",
    "    # Map characters to indices\n",
    "    idxs = [token_to_idx[c] for c in seed_phrase]\n",
    "    input_sequence = torch.tensor(idxs, dtype=torch.int64).unsqueeze(0).to(device)  # Shape: [1, seq_len]\n",
    "    \n",
    "    # Initialize hidden state for LSTM\n",
    "    hidden = char_rnn.init_hidden(1)\n",
    "    \n",
    "    # Store the generated text\n",
    "    generated_text = seed_phrase\n",
    "    \n",
    "    # Generate text until max_length\n",
    "    for _ in range(max_length - len(seed_phrase)):\n",
    "        output, hidden = char_rnn(input_sequence, hidden)\n",
    "        last_output = output[:, -1, :]  # Shape: [1, vocab_size]\n",
    "        \n",
    "        # Apply temperature scaling\n",
    "        last_output = last_output / temperature\n",
    "        \n",
    "        probabilities = torch.nn.functional.softmax(last_output, dim=-1).cpu().detach().numpy().flatten()\n",
    "        \n",
    "        next_token_idx = np.random.choice(len(probabilities), p=probabilities)\n",
    "        \n",
    "        # Convert index back to character\n",
    "        next_char = idx_to_token.get(next_token_idx)\n",
    "        \n",
    "        # Append the character to the generated text\n",
    "        generated_text += next_char\n",
    "        \n",
    "        # Update input_sequence for the next timestep (use the last generated token)\n",
    "        input_sequence = torch.tensor([[next_token_idx]], dtype=torch.int64).to(device)\n",
    "    \n",
    "    return generated_text\n"
   ]
  },
  {
   "cell_type": "markdown",
   "metadata": {
    "id": "oiUL8XB_biLE"
   },
   "source": [
    "Пример текста сгенерированного обученной моделью доступен ниже. Не страшно, что в тексте много несуществующих слов. Используемая модель очень проста: это простая классическая RNN."
   ]
  },
  {
   "cell_type": "code",
   "execution_count": 14,
   "metadata": {
    "colab": {
     "base_uri": "https://localhost:8080/",
     "height": 287
    },
    "executionInfo": {
     "elapsed": 489,
     "status": "error",
     "timestamp": 1731411537827,
     "user": {
      "displayName": "Аня",
      "userId": "06242451492203923297"
     },
     "user_tz": -180
    },
    "id": "f3f6mVp8ATu7",
    "outputId": "2fa2c7f2-644a-468b-dc64-f8aacbab909a"
   },
   "outputs": [
    {
     "data": {
      "text/plain": [
       "500"
      ]
     },
     "execution_count": 14,
     "metadata": {},
     "output_type": "execute_result"
    }
   ],
   "source": [
    "len(generate_sample(char_rnn, ' мой дядя самых честных правил ', max_length=500, temperature=0.5))"
   ]
  },
  {
   "cell_type": "code",
   "execution_count": 18,
   "metadata": {
    "executionInfo": {
     "elapsed": 7,
     "status": "aborted",
     "timestamp": 1731408958979,
     "user": {
      "displayName": "Аня",
      "userId": "06242451492203923297"
     },
     "user_tz": -180
    },
    "id": "l2zDxAVmbiLF"
   },
   "outputs": [
    {
     "name": "stdout",
     "output_type": "stream",
     "text": [
      " мой дядя самых честных правил\n",
      "и зловенным вновь охотно\n",
      "его где же, милый, вздыха\n",
      "двери надежды ей селить презренье\n",
      "в сем сердце бедня, весна!\n",
      "\n",
      "\n",
      "\n",
      "xxxix\n",
      "\n",
      "приплючи нет, эпимиться\n",
      "или на двор они мне таня:\n",
      "что звал евгений на дворе\n",
      "и тай мой усы, ко мненье,\n",
      "могу прокоительному старины,\n",
      "и снег, волшебный взор\n",
      "и что почте поздравлять,\n",
      "чтоб остальное вражом он странных,\n",
      "так на мароне, на двор\n",
      "ему на соленный, беспечны вновь,\n",
      "дыханьем ночи благосклонной\n",
      "безмолвный входит на луга;\n",
      "но подобно и мира!\n",
      "\n",
      "\n",
      "\n",
      "\n"
     ]
    }
   ],
   "source": [
    "print(generate_sample(char_rnn, ' мой дядя самых честных правил', max_length=500, temperature=0.8))"
   ]
  },
  {
   "cell_type": "markdown",
   "metadata": {
    "id": "_lXdsinGbiLF"
   },
   "source": [
    "### Сдача задания\n",
    "Сгенерируйте десять последовательностей длиной 500, используя строку ' мой дядя самых честных правил'. Температуру для генерации выберите самостоятельно на основании визуального качества генериуремого текста. Не забудьте удалить все технические токены в случае их наличия.\n",
    "\n",
    "Сгенерированную последовательность сохрание в переменную `generated_phrase` и сдайте сгенерированный ниже файл в контест."
   ]
  },
  {
   "cell_type": "code",
   "execution_count": 19,
   "metadata": {
    "id": "tUrbNzZ4biLF"
   },
   "outputs": [],
   "source": [
    " generated_phrases = [\n",
    "     generate_sample(\n",
    "         char_rnn,\n",
    "         ' мой дядя самых честных правил',\n",
    "         max_length=500,\n",
    "         temperature=0.5\n",
    "     )\n",
    "     for _ in range(10)\n",
    " ]"
   ]
  },
  {
   "cell_type": "code",
   "execution_count": 20,
   "metadata": {},
   "outputs": [
    {
     "data": {
      "text/plain": [
       "500"
      ]
     },
     "execution_count": 20,
     "metadata": {},
     "output_type": "execute_result"
    }
   ],
   "source": [
    "len(generated_phrases[1])"
   ]
  },
  {
   "cell_type": "code",
   "execution_count": 21,
   "metadata": {
    "id": "OfIfSUKpbiLF"
   },
   "outputs": [
    {
     "name": "stdout",
     "output_type": "stream",
     "text": [
      "File saved to `submission_dict.json`\n"
     ]
    }
   ],
   "source": [
    "# do not change the code in the block below\n",
    "# __________start of block__________\n",
    "\n",
    "import json\n",
    "if 'generated_phrases' not in locals():\n",
    "    raise ValueError(\"Please, save generated phrases to `generated_phrases` variable\")\n",
    "\n",
    "for phrase in generated_phrases:\n",
    "\n",
    "    if not isinstance(phrase, str):\n",
    "        raise ValueError(\"The generated phrase should be a string\")\n",
    "\n",
    "    if len(phrase) != 500:\n",
    "        raise ValueError(\"The `generated_phrase` length should be equal to 500\")\n",
    "\n",
    "    assert all([x in set(tokens) for x in set(list(phrase))]), 'Unknown tokens detected, check your submission!'\n",
    "\n",
    "\n",
    "submission_dict = {\n",
    "    'token_to_idx': token_to_idx,\n",
    "    'generated_phrases': generated_phrases\n",
    "}\n",
    "\n",
    "with open('submission_dict.json', 'w') as iofile:\n",
    "    json.dump(submission_dict, iofile)\n",
    "print('File saved to `submission_dict.json`')\n",
    "# __________end of block__________"
   ]
  },
  {
   "cell_type": "markdown",
   "metadata": {
    "id": "5oEewBKUbiLF"
   },
   "source": [
    "На этом задание завершено. Поздравляем!"
   ]
  },
  {
   "cell_type": "code",
   "execution_count": 22,
   "metadata": {},
   "outputs": [],
   "source": [
    "torch.save(char_rnn.state_dict(), './char_rnn')"
   ]
  },
  {
   "cell_type": "code",
   "execution_count": null,
   "metadata": {},
   "outputs": [],
   "source": []
  }
 ],
 "metadata": {
  "accelerator": "GPU",
  "anaconda-cloud": {},
  "colab": {
   "provenance": []
  },
  "kernelspec": {
   "display_name": "Python 3 (ipykernel)",
   "language": "python",
   "name": "python3"
  },
  "language_info": {
   "codemirror_mode": {
    "name": "ipython",
    "version": 3
   },
   "file_extension": ".py",
   "mimetype": "text/x-python",
   "name": "python",
   "nbconvert_exporter": "python",
   "pygments_lexer": "ipython3",
   "version": "3.12.7"
  }
 },
 "nbformat": 4,
 "nbformat_minor": 4
}
